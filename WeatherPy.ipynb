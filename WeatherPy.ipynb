{
 "cells": [
  {
   "cell_type": "markdown",
   "metadata": {},
   "source": [
    "# WeatherPy\n",
    "----\n",
    "\n",
    "### Analysis\n",
    "* As expected, the weather becomes significantly warmer as one approaches the equator (0 Deg. Latitude). More interestingly, however, is the fact that the southern hemisphere tends to be warmer this time of year than the northern hemisphere. This may be due to the tilt of the earth.\n",
    "* There is no strong relationship between latitude and cloudiness. However, it is interesting to see that a strong band of cities sits at 0, 80, and 100% cloudiness.\n",
    "* There is no strong relationship between latitude and wind speed. However, in northern hemispheres there is a flurry of cities with over 20 mph of wind.\n",
    "\n",
    "---\n",
    "\n",
    "#### Note\n",
    "* Instructions have been included for each segment. You do not have to follow them exactly, but they are included to help you think through the steps."
   ]
  },
  {
   "cell_type": "code",
   "execution_count": 2,
   "metadata": {
    "scrolled": true
   },
   "outputs": [],
   "source": [
    "# Dependencies and Setup\n",
    "import matplotlib.pyplot as plt\n",
    "import pandas as pd\n",
    "import numpy as np\n",
    "import requests\n",
    "import time\n",
    "\n",
    "# Import API key\n",
    "import api_keys\n",
    "\n",
    "# Incorporated citipy to determine city based on latitude and longitude\n",
    "from citipy import citipy\n",
    "\n",
    "# Output File (CSV)\n",
    "output_data_file = \"output_data/cities.csv\"\n",
    "\n",
    "# Range of latitudes and longitudes\n",
    "lat_range = (-90, 90)\n",
    "lng_range = (-180, 180)"
   ]
  },
  {
   "cell_type": "markdown",
   "metadata": {},
   "source": [
    "## Generate Cities List"
   ]
  },
  {
   "cell_type": "code",
   "execution_count": 3,
   "metadata": {},
   "outputs": [
    {
     "name": "stdout",
     "output_type": "stream",
     "text": [
      "50 also ex: Carnarvon\n"
     ]
    }
   ],
   "source": [
    "# List for holding lat_lngs and cities\n",
    "lat_lngs = []\n",
    "cities = []\n",
    "\n",
    "# Create a set of random lat and lng combinations\n",
    "lats = np.random.uniform(low=-90.000, high=90.000, size=50)\n",
    "lngs = np.random.uniform(low=-180.000, high=180.000, size=50)\n",
    "lat_lngs = zip(lats, lngs)\n",
    "\n",
    "# Identify nearest city for each lat, lng combination\n",
    "for lat_lng in lat_lngs:\n",
    "    city = citipy.nearest_city(lat_lng[0], lat_lng[1]).city_name\n",
    "    \n",
    "    # If the city is unique, then add it to a our cities list\n",
    "    if city not in cities:\n",
    "        cities.append(city.capitalize())\n",
    "\n",
    "# Print the city count to confirm sufficient count\n",
    "print(f'{len(cities)} also ex: {cities[0]}')\n"
   ]
  },
  {
   "cell_type": "markdown",
   "metadata": {},
   "source": [
    "### Perform API Calls\n",
    "* Perform a weather check on each city using a series of successive API calls.\n",
    "* Include a print log of each city as it'sbeing processed (with the city number and city name).\n"
   ]
  },
  {
   "cell_type": "code",
   "execution_count": 4,
   "metadata": {},
   "outputs": [
    {
     "name": "stdout",
     "output_type": "stream",
     "text": [
      "Beginning Data Retrieval\n",
      " -----------------------------\n",
      "Processing Record 1 | Carnarvon\n",
      "Processing Record 2 | Bambous virieux\n",
      "Processing Record 3 | Kavaratti\n",
      "Processing Record 4 | Mar del plata\n",
      "Processing Record 5 | Broken hill\n",
      "Processing Record 6 | Jamestown\n",
      "Processing Record 7 | Ushuaia\n",
      "Processing Record 8 | Takoradi\n",
      "Processing Record 9 | Sao felix do xingu\n",
      "Processing Record 10 | Atuona\n",
      "Processing Record 11 | Upata\n",
      "Processing Record 12 | Belushya guba\n",
      "Processing Record 13 | Punta arenas\n",
      "Processing Record 14 | Kavieng\n",
      "Processing Record 15 | Ushuaia\n",
      "Processing Record 16 | Punta arenas\n",
      "Processing Record 17 | Bethel\n",
      "Processing Record 18 | Port augusta\n",
      "Processing Record 19 | Kapaa\n",
      "Processing Record 20 | Punta arenas\n",
      "Processing Record 21 | Carnarvon\n",
      "Processing Record 22 | Albany\n",
      "Processing Record 23 | Cayenne\n",
      "Processing Record 24 | Coquimbo\n",
      "Processing Record 25 | Butaritari\n",
      "Processing Record 26 | Castro\n",
      "Processing Record 27 | Luderitz\n",
      "Processing Record 28 | Taolanaro\n",
      "Processing Record 29 | Nanortalik\n",
      "Processing Record 30 | Antofagasta\n",
      "Processing Record 31 | Punta arenas\n",
      "Processing Record 32 | Hermanus\n",
      "Processing Record 33 | Mana\n",
      "Processing Record 34 | Brigantine\n",
      "Processing Record 35 | Mys shmidta\n",
      "Processing Record 36 | Taolanaro\n",
      "Processing Record 37 | Olafsvik\n",
      "Processing Record 38 | Hasaki\n",
      "Processing Record 39 | Port alfred\n",
      "Processing Record 40 | Taolanaro\n",
      "Processing Record 41 | Upernavik\n",
      "Processing Record 42 | Faanui\n",
      "Processing Record 43 | Nemuro\n",
      "Processing Record 44 | Kodiak\n",
      "Processing Record 45 | Khasan\n",
      "Processing Record 46 | Dikson\n",
      "Processing Record 47 | Rikitea\n",
      "Processing Record 48 | Caravelas\n",
      "Processing Record 49 | Fayaoue\n",
      "Processing Record 50 | Saskylakh\n"
     ]
    }
   ],
   "source": [
    "city_name = ''\n",
    "api_key = 'fd717f3fa4f5129692190b1aab425cb5'\n",
    "base_call = f\"http://api.openweathermap.org/data/2.5/weather?appid={api_key}&q={city_name}\"\n",
    "weather_data = []\n",
    "calls = 0\n",
    "\n",
    "print(\"Beginning Data Retrieval\\n -----------------------------\")\n",
    "for city in cities:\n",
    "    time.sleep(1)\n",
    "    try:\n",
    "        city_name = city\n",
    "        current_weather = requests.get(base_call)\n",
    "        \n",
    "        calls += 1\n",
    "        print(f'Processing Record {calls} | {city_name}')\n",
    "        weather_data.append(current_weather)\n",
    "        \n",
    "    except:\n",
    "        print(\"City not found. Skipping...\")\n",
    "        print(city_name)\n",
    "        \n",
    "        "
   ]
  },
  {
   "cell_type": "markdown",
   "metadata": {},
   "source": [
    "### Convert Raw Data to DataFrame\n",
    "* Export the city data into a .csv.\n",
    "* Display the DataFrame"
   ]
  },
  {
   "cell_type": "code",
   "execution_count": null,
   "metadata": {},
   "outputs": [],
   "source": [
    "pd.read_json()"
   ]
  },
  {
   "cell_type": "code",
   "execution_count": null,
   "metadata": {},
   "outputs": [],
   "source": []
  },
  {
   "cell_type": "markdown",
   "metadata": {},
   "source": [
    "### Plotting the Data\n",
    "* Use proper labeling of the plots using plot titles (including date of analysis) and axes labels.\n",
    "* Save the plotted figures as .pngs."
   ]
  },
  {
   "cell_type": "markdown",
   "metadata": {},
   "source": [
    "#### Latitude vs. Temperature Plot"
   ]
  },
  {
   "cell_type": "code",
   "execution_count": null,
   "metadata": {},
   "outputs": [],
   "source": []
  },
  {
   "cell_type": "markdown",
   "metadata": {},
   "source": [
    "#### Latitude vs. Humidity Plot"
   ]
  },
  {
   "cell_type": "code",
   "execution_count": null,
   "metadata": {},
   "outputs": [],
   "source": []
  },
  {
   "cell_type": "markdown",
   "metadata": {},
   "source": [
    "#### Latitude vs. Cloudiness Plot"
   ]
  },
  {
   "cell_type": "code",
   "execution_count": null,
   "metadata": {},
   "outputs": [],
   "source": []
  },
  {
   "cell_type": "markdown",
   "metadata": {},
   "source": [
    "#### Latitude vs. Wind Speed Plot"
   ]
  },
  {
   "cell_type": "code",
   "execution_count": null,
   "metadata": {},
   "outputs": [],
   "source": []
  },
  {
   "cell_type": "code",
   "execution_count": null,
   "metadata": {},
   "outputs": [],
   "source": []
  }
 ],
 "metadata": {
  "anaconda-cloud": {},
  "kernelspec": {
   "display_name": "Python 3",
   "language": "python",
   "name": "python3"
  },
  "language_info": {
   "codemirror_mode": {
    "name": "ipython",
    "version": 3
   },
   "file_extension": ".py",
   "mimetype": "text/x-python",
   "name": "python",
   "nbconvert_exporter": "python",
   "pygments_lexer": "ipython3",
   "version": "3.8.3"
  }
 },
 "nbformat": 4,
 "nbformat_minor": 2
}
